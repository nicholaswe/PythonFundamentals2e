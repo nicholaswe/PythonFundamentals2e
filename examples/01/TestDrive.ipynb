{
 "cells": [
  {
   "cell_type": "markdown",
   "id": "c4f235c5",
   "metadata": {},
   "source": [
    "# My First Notebook"
   ]
  },
  {
   "cell_type": "code",
   "execution_count": null,
   "id": "1033c6cc",
   "metadata": {},
   "outputs": [],
   "source": [
    " 3+ 4"
   ]
  },
  {
   "cell_type": "markdown",
   "id": "316f3682",
   "metadata": {},
   "source": [
    "## Test"
   ]
  }
 ],
 "metadata": {
  "language_info": {
   "name": "python"
  }
 },
 "nbformat": 4,
 "nbformat_minor": 5
}
